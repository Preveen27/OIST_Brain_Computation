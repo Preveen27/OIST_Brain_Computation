{
 "cells": [
  {
   "cell_type": "markdown",
   "metadata": {},
   "source": [
    "# Brain Computation: A Hands-on Guidebook\n",
    "Kenji Doya  \n",
    "January 2023"
   ]
  },
  {
   "cell_type": "markdown",
   "metadata": {},
   "source": [
    "## Preface\n",
    "\n",
    "The aim of this book is to introduce fundamental principles and basic algorithms of machine learning (ML) and seek their possible realization in the brain. Sample codes in Python and links to on-line resources in neuroniformatics are provided to facilitate intuitive understanding. \n",
    "\n",
    "I hope this book will be a helpful guide for students from both computational and biological background to grasp an overview of computational neuroscience and to start exploring novel computational mechanisms of the brain or incorporating insights from the brain for building novel AI systems."
   ]
  },
  {
   "cell_type": "markdown",
   "metadata": {},
   "source": [
    "## Table of Contents\n",
    "\n",
    "```{tableofcontents}\n",
    "```"
   ]
  },
  {
   "cell_type": "code",
   "execution_count": null,
   "metadata": {
    "collapsed": true
   },
   "outputs": [],
   "source": []
  }
 ],
 "metadata": {
  "kernelspec": {
   "display_name": "Python 3 (ipykernel)",
   "language": "python",
   "name": "python3"
  },
  "language_info": {
   "codemirror_mode": {
    "name": "ipython",
    "version": 3
   },
   "file_extension": ".py",
   "mimetype": "text/x-python",
   "name": "python",
   "nbconvert_exporter": "python",
   "pygments_lexer": "ipython3",
   "version": "3.9.13"
  }
 },
 "nbformat": 4,
 "nbformat_minor": 2
}
