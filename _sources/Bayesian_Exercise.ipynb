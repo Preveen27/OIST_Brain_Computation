{
 "cells": [
  {
   "cell_type": "markdown",
   "metadata": {},
   "source": [
    "# Bayesian Approaches: Exercise"
   ]
  },
  {
   "cell_type": "code",
   "execution_count": 1,
   "metadata": {
    "collapsed": true
   },
   "outputs": [],
   "source": [
    "import numpy as np\n",
    "import matplotlib.pyplot as plt\n",
    "%matplotlib inline"
   ]
  },
  {
   "cell_type": "markdown",
   "metadata": {},
   "source": [
    "**1.** Apply Bayesian linear regression with gaussian basis functions to a data sampled from a nonlionear function of your interest and see how $\\alpha$, $\\beta$, $M$ and $N$ affect the performance."
   ]
  },
  {
   "cell_type": "code",
   "execution_count": null,
   "metadata": {
    "collapsed": true
   },
   "outputs": [],
   "source": []
  },
  {
   "cell_type": "markdown",
   "metadata": {
    "collapsed": true
   },
   "source": [
    "**2.** Compute the log evidence for the above models and see how that is related to the predictin errors."
   ]
  },
  {
   "cell_type": "code",
   "execution_count": null,
   "metadata": {
    "collapsed": true
   },
   "outputs": [],
   "source": []
  },
  {
   "cell_type": "markdown",
   "metadata": {},
   "source": [
    "**3.** Try forward-backward algorithm with different chains and inputs."
   ]
  },
  {
   "cell_type": "code",
   "execution_count": null,
   "metadata": {
    "collapsed": true
   },
   "outputs": [],
   "source": []
  },
  {
   "cell_type": "markdown",
   "metadata": {},
   "source": [
    "**4.** In the above chain example, we assumed that only one of the $K$ bits is one. If we allow simultaneous activation, the number of states increases to $2^K$, such that the conditional probability has $2^{K_n}2^{K_{n+1}}$ parameters.\n",
    "\n",
    "By using a stochastic neural network,\n",
    "\n",
    "$$ p(x_{n+1,j}|x_n) = f( \\sum_{k=1}^{K_n} w_{jk} x_{nk}) $$\n",
    "\n",
    "where $f(x)=\\frac{1}{1+e^{-x}}$, the conditional probabilty can be defined by $K_nK_{n+1}$ parameters.\n",
    "\n",
    "Try implementing data sampling and inference in such a chain."
   ]
  },
  {
   "cell_type": "code",
   "execution_count": null,
   "metadata": {
    "collapsed": true
   },
   "outputs": [],
   "source": []
  },
  {
   "cell_type": "code",
   "execution_count": null,
   "metadata": {
    "collapsed": true
   },
   "outputs": [],
   "source": []
  }
 ],
 "metadata": {
  "kernelspec": {
   "display_name": "Python 3 (ipykernel)",
   "language": "python",
   "name": "python3"
  },
  "language_info": {
   "codemirror_mode": {
    "name": "ipython",
    "version": 3
   },
   "file_extension": ".py",
   "mimetype": "text/x-python",
   "name": "python",
   "nbconvert_exporter": "python",
   "pygments_lexer": "ipython3",
   "version": "3.9.13"
  }
 },
 "nbformat": 4,
 "nbformat_minor": 2
}
